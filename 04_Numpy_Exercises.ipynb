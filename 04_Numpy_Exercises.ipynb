{
  "cells": [
    {
      "cell_type": "markdown",
      "metadata": {
        "id": "thKTb5EEwTXm"
      },
      "source": [
        "___\n",
        "\n",
        "<a href='http://www.pieriandata.com'> <img src='../Pierian_Data_Logo.png' /></a>\n",
        "___"
      ]
    },
    {
      "cell_type": "markdown",
      "metadata": {
        "id": "hXH-YkltwTXp"
      },
      "source": [
        "# NumPy Exercises\n",
        "\n",
        "Now that we've learned about NumPy let's test your knowledge. We'll start off with a few simple tasks, and then you'll be asked some more complicated questions."
      ]
    },
    {
      "cell_type": "markdown",
      "metadata": {
        "id": "LrIb7xRiwTXq"
      },
      "source": [
        "#### Import NumPy as np"
      ]
    },
    {
      "cell_type": "code",
      "execution_count": 1,
      "metadata": {
        "collapsed": true,
        "id": "wRm_fHIzwTXq"
      },
      "outputs": [],
      "source": [
        "import numpy as np"
      ]
    },
    {
      "cell_type": "markdown",
      "metadata": {
        "id": "ELcoDj33wTXr"
      },
      "source": [
        "#### Create an array of 10 zeros"
      ]
    },
    {
      "cell_type": "code",
      "execution_count": 2,
      "metadata": {
        "colab": {
          "base_uri": "https://localhost:8080/"
        },
        "id": "qOACRU2ZwTXr",
        "outputId": "77f0d8e0-1972-4afc-ee22-ecbdf3f01a30"
      },
      "outputs": [
        {
          "output_type": "execute_result",
          "data": {
            "text/plain": [
              "array([0., 0., 0., 0., 0., 0., 0., 0., 0., 0.])"
            ]
          },
          "metadata": {},
          "execution_count": 2
        }
      ],
      "source": [
        "np.zeros(10)"
      ]
    },
    {
      "cell_type": "markdown",
      "metadata": {
        "id": "KhO3Wg0YwTXs"
      },
      "source": [
        "#### Create an array of 10 ones"
      ]
    },
    {
      "cell_type": "code",
      "execution_count": 3,
      "metadata": {
        "colab": {
          "base_uri": "https://localhost:8080/"
        },
        "id": "kWUonhSzwTXt",
        "outputId": "22a6c31d-7668-4014-9c4d-786f031b7933"
      },
      "outputs": [
        {
          "output_type": "execute_result",
          "data": {
            "text/plain": [
              "array([1., 1., 1., 1., 1., 1., 1., 1., 1., 1.])"
            ]
          },
          "metadata": {},
          "execution_count": 3
        }
      ],
      "source": [
        "np.ones(10)"
      ]
    },
    {
      "cell_type": "markdown",
      "metadata": {
        "id": "Vf4Qs53mwTXt"
      },
      "source": [
        "#### Create an array of 10 fives"
      ]
    },
    {
      "cell_type": "code",
      "execution_count": 4,
      "metadata": {
        "colab": {
          "base_uri": "https://localhost:8080/"
        },
        "id": "F68BFqWlwTXt",
        "outputId": "732a6e6c-a153-4ebd-a9a2-46820c47403d"
      },
      "outputs": [
        {
          "output_type": "execute_result",
          "data": {
            "text/plain": [
              "array([5., 5., 5., 5., 5., 5., 5., 5., 5., 5.])"
            ]
          },
          "metadata": {},
          "execution_count": 4
        }
      ],
      "source": [
        "np.ones(10)*5"
      ]
    },
    {
      "cell_type": "markdown",
      "metadata": {
        "id": "AX9JCaNtwTXu"
      },
      "source": [
        "#### Create an array of the integers from 10 to 50"
      ]
    },
    {
      "cell_type": "code",
      "execution_count": 6,
      "metadata": {
        "colab": {
          "base_uri": "https://localhost:8080/"
        },
        "id": "Uyw_LnSuwTXu",
        "outputId": "7452935b-7da6-4965-d2d9-daa439592d85"
      },
      "outputs": [
        {
          "output_type": "execute_result",
          "data": {
            "text/plain": [
              "array([10, 11, 12, 13, 14, 15, 16, 17, 18, 19, 20, 21, 22, 23, 24, 25, 26,\n",
              "       27, 28, 29, 30, 31, 32, 33, 34, 35, 36, 37, 38, 39, 40, 41, 42, 43,\n",
              "       44, 45, 46, 47, 48, 49, 50])"
            ]
          },
          "metadata": {},
          "execution_count": 6
        }
      ],
      "source": [
        "np.arange(10,51)"
      ]
    },
    {
      "cell_type": "markdown",
      "metadata": {
        "id": "F0BdiisFwTXu"
      },
      "source": [
        "#### Create an array of all the even integers from 10 to 50"
      ]
    },
    {
      "cell_type": "code",
      "execution_count": 8,
      "metadata": {
        "colab": {
          "base_uri": "https://localhost:8080/"
        },
        "id": "6y1uOl6SwTXu",
        "outputId": "24b488e6-ea45-4e45-dc77-c728ac8b590f"
      },
      "outputs": [
        {
          "output_type": "execute_result",
          "data": {
            "text/plain": [
              "array([10, 12, 14, 16, 18, 20, 22, 24, 26, 28, 30, 32, 34, 36, 38, 40, 42,\n",
              "       44, 46, 48, 50])"
            ]
          },
          "metadata": {},
          "execution_count": 8
        }
      ],
      "source": [
        "np.arange(10,51,2)"
      ]
    },
    {
      "cell_type": "markdown",
      "metadata": {
        "id": "I76Hl-t8wTXu"
      },
      "source": [
        "#### Create a 3x3 matrix with values ranging from 0 to 8"
      ]
    },
    {
      "cell_type": "code",
      "execution_count": 12,
      "metadata": {
        "colab": {
          "base_uri": "https://localhost:8080/"
        },
        "id": "VuXG7dJwwTXu",
        "outputId": "030a7fd3-440b-49bd-b015-57a07a152549"
      },
      "outputs": [
        {
          "output_type": "execute_result",
          "data": {
            "text/plain": [
              "array([[0, 1, 2],\n",
              "       [3, 4, 5],\n",
              "       [6, 7, 8]])"
            ]
          },
          "metadata": {},
          "execution_count": 12
        }
      ],
      "source": [
        "np.arange(0,9).reshape(3,3)"
      ]
    },
    {
      "cell_type": "markdown",
      "metadata": {
        "id": "mo7NDUqCwTXu"
      },
      "source": [
        "#### Create a 3x3 identity matrix"
      ]
    },
    {
      "cell_type": "code",
      "execution_count": 13,
      "metadata": {
        "colab": {
          "base_uri": "https://localhost:8080/"
        },
        "id": "kNrZyi2nwTXv",
        "outputId": "3640da13-4c97-4dff-a5bd-5ca26565e2d8"
      },
      "outputs": [
        {
          "output_type": "execute_result",
          "data": {
            "text/plain": [
              "array([[1., 0., 0.],\n",
              "       [0., 1., 0.],\n",
              "       [0., 0., 1.]])"
            ]
          },
          "metadata": {},
          "execution_count": 13
        }
      ],
      "source": [
        "np.eye(3)"
      ]
    },
    {
      "cell_type": "markdown",
      "metadata": {
        "id": "L95-7FQOwTXv"
      },
      "source": [
        "#### Use NumPy to generate a random number between 0 and 1"
      ]
    },
    {
      "cell_type": "code",
      "execution_count": 14,
      "metadata": {
        "colab": {
          "base_uri": "https://localhost:8080/"
        },
        "id": "lAJr5lT0wTXv",
        "outputId": "b125b4b7-8b7c-4350-a63c-c01962a4da0d"
      },
      "outputs": [
        {
          "output_type": "execute_result",
          "data": {
            "text/plain": [
              "0.17540733508795014"
            ]
          },
          "metadata": {},
          "execution_count": 14
        }
      ],
      "source": [
        "np.random.rand()"
      ]
    },
    {
      "cell_type": "markdown",
      "metadata": {
        "id": "wLOodNe8wTXv"
      },
      "source": [
        "#### Use NumPy to generate an array of 25 random numbers sampled from a standard normal distribution"
      ]
    },
    {
      "cell_type": "code",
      "execution_count": 15,
      "metadata": {
        "colab": {
          "base_uri": "https://localhost:8080/"
        },
        "id": "QAOoToRzwTXv",
        "outputId": "2795d82a-e31d-42d0-bedf-b6917abb1098"
      },
      "outputs": [
        {
          "output_type": "execute_result",
          "data": {
            "text/plain": [
              "array([ 0.30113595,  0.21237512,  0.24755458, -1.33965218,  0.13156878,\n",
              "       -0.90195439,  1.63168443, -0.65007472,  0.40304058, -0.23783875,\n",
              "       -0.49831017, -1.68881454,  0.21630945, -1.49555447,  0.71272948,\n",
              "       -0.44659206, -0.23537122, -1.82165499,  0.95398013, -0.11604344,\n",
              "       -0.67236079, -0.96135119, -1.08902744,  0.54268949,  1.37219237])"
            ]
          },
          "metadata": {},
          "execution_count": 15
        }
      ],
      "source": [
        "np.random.randn(25)"
      ]
    },
    {
      "cell_type": "markdown",
      "metadata": {
        "id": "-OvKs-7WwTXw"
      },
      "source": [
        "#### Create the following matrix:"
      ]
    },
    {
      "cell_type": "code",
      "execution_count": 22,
      "metadata": {
        "colab": {
          "base_uri": "https://localhost:8080/"
        },
        "id": "Il1a3GvMwTXw",
        "outputId": "2020ec25-594b-4887-84df-dd5513cdef9c"
      },
      "outputs": [
        {
          "output_type": "execute_result",
          "data": {
            "text/plain": [
              "array([[0.01, 0.02, 0.03, 0.04, 0.05, 0.06, 0.07, 0.08, 0.09, 0.1 ],\n",
              "       [0.11, 0.12, 0.13, 0.14, 0.15, 0.16, 0.17, 0.18, 0.19, 0.2 ],\n",
              "       [0.21, 0.22, 0.23, 0.24, 0.25, 0.26, 0.27, 0.28, 0.29, 0.3 ],\n",
              "       [0.31, 0.32, 0.33, 0.34, 0.35, 0.36, 0.37, 0.38, 0.39, 0.4 ],\n",
              "       [0.41, 0.42, 0.43, 0.44, 0.45, 0.46, 0.47, 0.48, 0.49, 0.5 ],\n",
              "       [0.51, 0.52, 0.53, 0.54, 0.55, 0.56, 0.57, 0.58, 0.59, 0.6 ],\n",
              "       [0.61, 0.62, 0.63, 0.64, 0.65, 0.66, 0.67, 0.68, 0.69, 0.7 ],\n",
              "       [0.71, 0.72, 0.73, 0.74, 0.75, 0.76, 0.77, 0.78, 0.79, 0.8 ],\n",
              "       [0.81, 0.82, 0.83, 0.84, 0.85, 0.86, 0.87, 0.88, 0.89, 0.9 ],\n",
              "       [0.91, 0.92, 0.93, 0.94, 0.95, 0.96, 0.97, 0.98, 0.99, 1.  ]])"
            ]
          },
          "metadata": {},
          "execution_count": 22
        }
      ],
      "source": [
        "np.arange(1,101).reshape(10,10)/100"
      ]
    },
    {
      "cell_type": "code",
      "source": [
        "np.linspace(0.01,1,100).reshape(10,10)#above method and this give same result"
      ],
      "metadata": {
        "colab": {
          "base_uri": "https://localhost:8080/"
        },
        "id": "o1nXqqR2zHtL",
        "outputId": "975c05d2-fa22-48dc-9840-5e85387f6800"
      },
      "execution_count": 23,
      "outputs": [
        {
          "output_type": "execute_result",
          "data": {
            "text/plain": [
              "array([[0.01, 0.02, 0.03, 0.04, 0.05, 0.06, 0.07, 0.08, 0.09, 0.1 ],\n",
              "       [0.11, 0.12, 0.13, 0.14, 0.15, 0.16, 0.17, 0.18, 0.19, 0.2 ],\n",
              "       [0.21, 0.22, 0.23, 0.24, 0.25, 0.26, 0.27, 0.28, 0.29, 0.3 ],\n",
              "       [0.31, 0.32, 0.33, 0.34, 0.35, 0.36, 0.37, 0.38, 0.39, 0.4 ],\n",
              "       [0.41, 0.42, 0.43, 0.44, 0.45, 0.46, 0.47, 0.48, 0.49, 0.5 ],\n",
              "       [0.51, 0.52, 0.53, 0.54, 0.55, 0.56, 0.57, 0.58, 0.59, 0.6 ],\n",
              "       [0.61, 0.62, 0.63, 0.64, 0.65, 0.66, 0.67, 0.68, 0.69, 0.7 ],\n",
              "       [0.71, 0.72, 0.73, 0.74, 0.75, 0.76, 0.77, 0.78, 0.79, 0.8 ],\n",
              "       [0.81, 0.82, 0.83, 0.84, 0.85, 0.86, 0.87, 0.88, 0.89, 0.9 ],\n",
              "       [0.91, 0.92, 0.93, 0.94, 0.95, 0.96, 0.97, 0.98, 0.99, 1.  ]])"
            ]
          },
          "metadata": {},
          "execution_count": 23
        }
      ]
    },
    {
      "cell_type": "markdown",
      "metadata": {
        "id": "33k-gG4XwTXw"
      },
      "source": [
        "#### Create an array of 20 linearly spaced points between 0 and 1:"
      ]
    },
    {
      "cell_type": "code",
      "execution_count": 25,
      "metadata": {
        "colab": {
          "base_uri": "https://localhost:8080/"
        },
        "id": "m04Xr1PjwTXw",
        "outputId": "4256718b-d3b5-4990-d428-8b7f47a753f5"
      },
      "outputs": [
        {
          "output_type": "execute_result",
          "data": {
            "text/plain": [
              "array([0.        , 0.05263158, 0.10526316, 0.15789474, 0.21052632,\n",
              "       0.26315789, 0.31578947, 0.36842105, 0.42105263, 0.47368421,\n",
              "       0.52631579, 0.57894737, 0.63157895, 0.68421053, 0.73684211,\n",
              "       0.78947368, 0.84210526, 0.89473684, 0.94736842, 1.        ])"
            ]
          },
          "metadata": {},
          "execution_count": 25
        }
      ],
      "source": [
        "np.linspace(0,1,20)"
      ]
    },
    {
      "cell_type": "markdown",
      "metadata": {
        "id": "9a7PRxetwTXw"
      },
      "source": [
        "## Numpy Indexing and Selection\n",
        "\n",
        "Now you will be given a few matrices, and be asked to replicate the resulting matrix outputs:"
      ]
    },
    {
      "cell_type": "code",
      "execution_count": 27,
      "metadata": {
        "colab": {
          "base_uri": "https://localhost:8080/"
        },
        "id": "lWFz6PxnwTXw",
        "outputId": "0c1d10b3-9f8c-470a-8c94-a840fd3b2e54"
      },
      "outputs": [
        {
          "output_type": "execute_result",
          "data": {
            "text/plain": [
              "array([[ 1,  2,  3,  4,  5],\n",
              "       [ 6,  7,  8,  9, 10],\n",
              "       [11, 12, 13, 14, 15],\n",
              "       [16, 17, 18, 19, 20],\n",
              "       [21, 22, 23, 24, 25]])"
            ]
          },
          "metadata": {},
          "execution_count": 27
        }
      ],
      "source": [
        "mat = np.arange(1,26).reshape(5,5)\n",
        "mat"
      ]
    },
    {
      "cell_type": "code",
      "execution_count": null,
      "metadata": {
        "collapsed": true,
        "id": "XRQnxsDzwTXx"
      },
      "outputs": [],
      "source": [
        "# WRITE CODE HERE THAT REPRODUCES THE OUTPUT OF THE CELL BELOW\n",
        "# BE CAREFUL NOT TO RUN THE CELL BELOW, OTHERWISE YOU WON'T\n",
        "# BE ABLE TO SEE THE OUTPUT ANY MORE"
      ]
    },
    {
      "cell_type": "code",
      "execution_count": 28,
      "metadata": {
        "colab": {
          "base_uri": "https://localhost:8080/"
        },
        "id": "O6DuSvcNwTXx",
        "outputId": "8df9833e-d1f2-4226-ee92-5c4ebfa7ed8d"
      },
      "outputs": [
        {
          "output_type": "execute_result",
          "data": {
            "text/plain": [
              "array([[12, 13, 14, 15],\n",
              "       [17, 18, 19, 20],\n",
              "       [22, 23, 24, 25]])"
            ]
          },
          "metadata": {},
          "execution_count": 28
        }
      ],
      "source": [
        "mat[2:,1:]"
      ]
    },
    {
      "cell_type": "code",
      "execution_count": null,
      "metadata": {
        "collapsed": true,
        "id": "SBKInGOTwTXx"
      },
      "outputs": [],
      "source": [
        "# WRITE CODE HERE THAT REPRODUCES THE OUTPUT OF THE CELL BELOW\n",
        "# BE CAREFUL NOT TO RUN THE CELL BELOW, OTHERWISE YOU WON'T\n",
        "# BE ABLE TO SEE THE OUTPUT ANY MORE"
      ]
    },
    {
      "cell_type": "code",
      "execution_count": 30,
      "metadata": {
        "colab": {
          "base_uri": "https://localhost:8080/"
        },
        "id": "u2Y0_hPIwTXx",
        "outputId": "0fee803d-fc5d-4782-c131-806b059c354c"
      },
      "outputs": [
        {
          "output_type": "execute_result",
          "data": {
            "text/plain": [
              "20"
            ]
          },
          "metadata": {},
          "execution_count": 30
        }
      ],
      "source": [
        "mat[3,4]"
      ]
    },
    {
      "cell_type": "code",
      "source": [
        "mat[3][4]#above methos is also same"
      ],
      "metadata": {
        "colab": {
          "base_uri": "https://localhost:8080/"
        },
        "id": "JXRIcnCV0RzZ",
        "outputId": "83f9220a-4893-4c85-c913-199aa2b4a25c"
      },
      "execution_count": 29,
      "outputs": [
        {
          "output_type": "execute_result",
          "data": {
            "text/plain": [
              "20"
            ]
          },
          "metadata": {},
          "execution_count": 29
        }
      ]
    },
    {
      "cell_type": "code",
      "execution_count": null,
      "metadata": {
        "collapsed": true,
        "id": "-WQmJzJywTXx"
      },
      "outputs": [],
      "source": [
        "# WRITE CODE HERE THAT REPRODUCES THE OUTPUT OF THE CELL BELOW\n",
        "# BE CAREFUL NOT TO RUN THE CELL BELOW, OTHERWISE YOU WON'T\n",
        "# BE ABLE TO SEE THE OUTPUT ANY MORE"
      ]
    },
    {
      "cell_type": "code",
      "source": [
        "mat[0:3,1].reshape(3,1)"
      ],
      "metadata": {
        "colab": {
          "base_uri": "https://localhost:8080/"
        },
        "id": "fCHTU6qM0ZHC",
        "outputId": "e9ee6d7d-2432-419f-bc70-8e0a38315c32"
      },
      "execution_count": 37,
      "outputs": [
        {
          "output_type": "execute_result",
          "data": {
            "text/plain": [
              "array([[ 2],\n",
              "       [ 7],\n",
              "       [12]])"
            ]
          },
          "metadata": {},
          "execution_count": 37
        }
      ]
    },
    {
      "cell_type": "code",
      "execution_count": 40,
      "metadata": {
        "colab": {
          "base_uri": "https://localhost:8080/"
        },
        "id": "uWbij4AHwTXy",
        "outputId": "f008f7b3-7cf2-4d64-bb03-8e5e46d23e94"
      },
      "outputs": [
        {
          "output_type": "execute_result",
          "data": {
            "text/plain": [
              "array([[ 2],\n",
              "       [ 7],\n",
              "       [12]])"
            ]
          },
          "metadata": {},
          "execution_count": 40
        }
      ],
      "source": [
        "mat[:3,1:2]#above method is also same"
      ]
    },
    {
      "cell_type": "code",
      "execution_count": null,
      "metadata": {
        "collapsed": true,
        "id": "u-FVI7lkwTXy"
      },
      "outputs": [],
      "source": [
        "# WRITE CODE HERE THAT REPRODUCES THE OUTPUT OF THE CELL BELOW\n",
        "# BE CAREFUL NOT TO RUN THE CELL BELOW, OTHERWISE YOU WON'T\n",
        "# BE ABLE TO SEE THE OUTPUT ANY MORE"
      ]
    },
    {
      "cell_type": "code",
      "execution_count": 41,
      "metadata": {
        "colab": {
          "base_uri": "https://localhost:8080/"
        },
        "id": "utW915x7wTXy",
        "outputId": "62665689-7635-4322-c9ca-9421b677bd57"
      },
      "outputs": [
        {
          "output_type": "execute_result",
          "data": {
            "text/plain": [
              "array([21, 22, 23, 24, 25])"
            ]
          },
          "metadata": {},
          "execution_count": 41
        }
      ],
      "source": [
        "mat[4]"
      ]
    },
    {
      "cell_type": "code",
      "source": [
        "mat[-1,:]#both are same, colon is also not required here"
      ],
      "metadata": {
        "colab": {
          "base_uri": "https://localhost:8080/"
        },
        "id": "ts5TvcP81301",
        "outputId": "b3312afb-6bf5-4d4a-c595-7a29a6e5e996"
      },
      "execution_count": 44,
      "outputs": [
        {
          "output_type": "execute_result",
          "data": {
            "text/plain": [
              "array([21, 22, 23, 24, 25])"
            ]
          },
          "metadata": {},
          "execution_count": 44
        }
      ]
    },
    {
      "cell_type": "code",
      "execution_count": null,
      "metadata": {
        "collapsed": true,
        "id": "seRV49qCwTXy"
      },
      "outputs": [],
      "source": [
        "# WRITE CODE HERE THAT REPRODUCES THE OUTPUT OF THE CELL BELOW\n",
        "# BE CAREFUL NOT TO RUN THE CELL BELOW, OTHERWISE YOU WON'T\n",
        "# BE ABLE TO SEE THE OUTPUT ANY MORE"
      ]
    },
    {
      "cell_type": "code",
      "execution_count": 45,
      "metadata": {
        "colab": {
          "base_uri": "https://localhost:8080/"
        },
        "id": "W_Lf8LWrwTXy",
        "outputId": "b00ce352-2235-41c5-afcb-67052a9f7dfb"
      },
      "outputs": [
        {
          "output_type": "execute_result",
          "data": {
            "text/plain": [
              "array([[16, 17, 18, 19, 20],\n",
              "       [21, 22, 23, 24, 25]])"
            ]
          },
          "metadata": {},
          "execution_count": 45
        }
      ],
      "source": [
        "mat[3:,:]"
      ]
    },
    {
      "cell_type": "markdown",
      "metadata": {
        "id": "Y8lK5_EcwTXz"
      },
      "source": [
        "### Now do the following"
      ]
    },
    {
      "cell_type": "markdown",
      "metadata": {
        "id": "KSmuPhYLwTX0"
      },
      "source": [
        "#### Get the sum of all the values in mat"
      ]
    },
    {
      "cell_type": "code",
      "execution_count": 49,
      "metadata": {
        "colab": {
          "base_uri": "https://localhost:8080/"
        },
        "id": "ac3Akm-NwTX0",
        "outputId": "03415062-6fb0-4095-96dc-5bcfe75edb39"
      },
      "outputs": [
        {
          "output_type": "execute_result",
          "data": {
            "text/plain": [
              "325"
            ]
          },
          "metadata": {},
          "execution_count": 49
        }
      ],
      "source": [
        "mat.sum()"
      ]
    },
    {
      "cell_type": "code",
      "source": [
        "np.sum(mat)"
      ],
      "metadata": {
        "colab": {
          "base_uri": "https://localhost:8080/"
        },
        "id": "jag6t5HM26s4",
        "outputId": "aa27e9f5-8f15-4076-efd5-c0d5ba73abbc"
      },
      "execution_count": 52,
      "outputs": [
        {
          "output_type": "execute_result",
          "data": {
            "text/plain": [
              "325"
            ]
          },
          "metadata": {},
          "execution_count": 52
        }
      ]
    },
    {
      "cell_type": "markdown",
      "metadata": {
        "id": "TrR-QU8jwTX0"
      },
      "source": [
        "#### Get the standard deviation of the values in mat"
      ]
    },
    {
      "cell_type": "code",
      "execution_count": 47,
      "metadata": {
        "colab": {
          "base_uri": "https://localhost:8080/"
        },
        "id": "WEO2EGDfwTX0",
        "outputId": "7a65568b-7537-41ee-f9be-3c12e81eec69"
      },
      "outputs": [
        {
          "output_type": "execute_result",
          "data": {
            "text/plain": [
              "7.211102550927978"
            ]
          },
          "metadata": {},
          "execution_count": 47
        }
      ],
      "source": [
        "mat.std()"
      ]
    },
    {
      "cell_type": "markdown",
      "metadata": {
        "id": "9Y51TW1IwTX1"
      },
      "source": [
        "#### Get the sum of all the columns in mat"
      ]
    },
    {
      "cell_type": "code",
      "execution_count": 51,
      "metadata": {
        "colab": {
          "base_uri": "https://localhost:8080/"
        },
        "id": "nQMxZFUBwTX1",
        "outputId": "aa8e1baf-ede2-472a-e8b1-35448602df5f"
      },
      "outputs": [
        {
          "output_type": "execute_result",
          "data": {
            "text/plain": [
              "array([55, 60, 65, 70, 75])"
            ]
          },
          "metadata": {},
          "execution_count": 51
        }
      ],
      "source": [
        "np.array([mat[:,0].sum(),mat[:,1].sum(),mat[:,2].sum(),mat[:,3].sum(),mat[:,4].sum()])"
      ]
    },
    {
      "cell_type": "code",
      "source": [
        "mat.sum(axis=0)#axis=0 takes column, axis=1 takes row"
      ],
      "metadata": {
        "colab": {
          "base_uri": "https://localhost:8080/"
        },
        "id": "He1jQ0w22-SC",
        "outputId": "7b989a47-dc2c-4bdc-f628-875e3b3bd099"
      },
      "execution_count": 55,
      "outputs": [
        {
          "output_type": "execute_result",
          "data": {
            "text/plain": [
              "array([55, 60, 65, 70, 75])"
            ]
          },
          "metadata": {},
          "execution_count": 55
        }
      ]
    },
    {
      "cell_type": "markdown",
      "metadata": {
        "collapsed": true,
        "id": "d8JgOFrXwTX1"
      },
      "source": [
        "# Great Job!"
      ]
    }
  ],
  "metadata": {
    "kernelspec": {
      "display_name": "Python 3",
      "language": "python",
      "name": "python3"
    },
    "language_info": {
      "codemirror_mode": {
        "name": "ipython",
        "version": 3
      },
      "file_extension": ".py",
      "mimetype": "text/x-python",
      "name": "python",
      "nbconvert_exporter": "python",
      "pygments_lexer": "ipython3",
      "version": "3.5.1"
    },
    "colab": {
      "provenance": []
    }
  },
  "nbformat": 4,
  "nbformat_minor": 0
}